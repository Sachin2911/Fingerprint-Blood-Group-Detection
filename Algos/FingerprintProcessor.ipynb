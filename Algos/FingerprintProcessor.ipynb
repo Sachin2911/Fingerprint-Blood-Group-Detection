{
 "cells": [
  {
   "cell_type": "code",
   "execution_count": 1,
   "id": "515854b8",
   "metadata": {},
   "outputs": [
    {
     "name": "stdout",
     "output_type": "stream",
     "text": [
      "Requirement already satisfied: Pillow in c:\\users\\sachin\\.conda\\envs\\machinelearning\\lib\\site-packages (9.2.0)\n"
     ]
    },
    {
     "name": "stderr",
     "output_type": "stream",
     "text": [
      "WARNING: Ignoring invalid distribution -rotobuf (c:\\users\\sachin\\.conda\\envs\\machinelearning\\lib\\site-packages)\n",
      "WARNING: Ignoring invalid distribution - (c:\\users\\sachin\\.conda\\envs\\machinelearning\\lib\\site-packages)\n",
      "WARNING: Ignoring invalid distribution -ensorflow-intel (c:\\users\\sachin\\.conda\\envs\\machinelearning\\lib\\site-packages)\n",
      "WARNING: Ignoring invalid distribution -andas (c:\\users\\sachin\\.conda\\envs\\machinelearning\\lib\\site-packages)\n",
      "WARNING: Ignoring invalid distribution -rotobuf (c:\\users\\sachin\\.conda\\envs\\machinelearning\\lib\\site-packages)\n",
      "WARNING: Ignoring invalid distribution - (c:\\users\\sachin\\.conda\\envs\\machinelearning\\lib\\site-packages)\n",
      "WARNING: Ignoring invalid distribution -ensorflow-intel (c:\\users\\sachin\\.conda\\envs\\machinelearning\\lib\\site-packages)\n",
      "WARNING: Ignoring invalid distribution -andas (c:\\users\\sachin\\.conda\\envs\\machinelearning\\lib\\site-packages)\n",
      "WARNING: Ignoring invalid distribution -rotobuf (c:\\users\\sachin\\.conda\\envs\\machinelearning\\lib\\site-packages)\n",
      "WARNING: Ignoring invalid distribution - (c:\\users\\sachin\\.conda\\envs\\machinelearning\\lib\\site-packages)\n",
      "WARNING: Ignoring invalid distribution -ensorflow-intel (c:\\users\\sachin\\.conda\\envs\\machinelearning\\lib\\site-packages)\n",
      "WARNING: Ignoring invalid distribution -andas (c:\\users\\sachin\\.conda\\envs\\machinelearning\\lib\\site-packages)\n",
      "WARNING: Ignoring invalid distribution -rotobuf (c:\\users\\sachin\\.conda\\envs\\machinelearning\\lib\\site-packages)\n",
      "WARNING: Ignoring invalid distribution - (c:\\users\\sachin\\.conda\\envs\\machinelearning\\lib\\site-packages)\n",
      "WARNING: Ignoring invalid distribution -ensorflow-intel (c:\\users\\sachin\\.conda\\envs\\machinelearning\\lib\\site-packages)\n",
      "WARNING: Ignoring invalid distribution -andas (c:\\users\\sachin\\.conda\\envs\\machinelearning\\lib\\site-packages)\n",
      "WARNING: Ignoring invalid distribution -rotobuf (c:\\users\\sachin\\.conda\\envs\\machinelearning\\lib\\site-packages)\n",
      "WARNING: Ignoring invalid distribution - (c:\\users\\sachin\\.conda\\envs\\machinelearning\\lib\\site-packages)\n",
      "WARNING: Ignoring invalid distribution -ensorflow-intel (c:\\users\\sachin\\.conda\\envs\\machinelearning\\lib\\site-packages)\n",
      "WARNING: Ignoring invalid distribution -andas (c:\\users\\sachin\\.conda\\envs\\machinelearning\\lib\\site-packages)\n",
      "WARNING: Ignoring invalid distribution -rotobuf (c:\\users\\sachin\\.conda\\envs\\machinelearning\\lib\\site-packages)\n",
      "WARNING: Ignoring invalid distribution - (c:\\users\\sachin\\.conda\\envs\\machinelearning\\lib\\site-packages)\n",
      "WARNING: Ignoring invalid distribution -ensorflow-intel (c:\\users\\sachin\\.conda\\envs\\machinelearning\\lib\\site-packages)\n",
      "WARNING: Ignoring invalid distribution -andas (c:\\users\\sachin\\.conda\\envs\\machinelearning\\lib\\site-packages)\n"
     ]
    }
   ],
   "source": [
    "! pip install Pillow"
   ]
  },
  {
   "cell_type": "code",
   "execution_count": 2,
   "id": "b4c260b5",
   "metadata": {},
   "outputs": [],
   "source": [
    "from PIL import Image\n",
    "\n",
    "image_path = '../testFingerprints/UnprocessedLeftIndex.jpg'\n",
    "original_image = Image.open(image_path)\n",
    "\n",
    "grayscale_image = original_image.convert('L')\n",
    "\n",
    "grayscale_image.save('../testFingerprints/grayscale_fingerprint.png')\n"
   ]
  },
  {
   "cell_type": "code",
   "execution_count": 6,
   "id": "03d808ef",
   "metadata": {},
   "outputs": [
    {
     "name": "stdout",
     "output_type": "stream",
     "text": [
      "Collecting scikit-image\n",
      "  Downloading scikit_image-0.21.0-cp39-cp39-win_amd64.whl (22.9 MB)\n",
      "Requirement already satisfied: networkx>=2.8 in c:\\users\\sachin\\.conda\\envs\\machinelearning\\lib\\site-packages (from scikit-image) (3.0)\n",
      "Collecting tifffile>=2022.8.12\n",
      "  Downloading tifffile-2023.7.18-py3-none-any.whl (221 kB)\n",
      "Collecting lazy_loader>=0.2\n",
      "  Downloading lazy_loader-0.3-py3-none-any.whl (9.1 kB)\n",
      "Requirement already satisfied: pillow>=9.0.1 in c:\\users\\sachin\\.conda\\envs\\machinelearning\\lib\\site-packages (from scikit-image) (9.2.0)\n",
      "Requirement already satisfied: numpy>=1.21.1 in c:\\users\\sachin\\.conda\\envs\\machinelearning\\lib\\site-packages (from scikit-image) (1.23.1)\n",
      "Requirement already satisfied: scipy>=1.8 in c:\\users\\sachin\\.conda\\envs\\machinelearning\\lib\\site-packages (from scikit-image) (1.9.1)\n",
      "Collecting PyWavelets>=1.1.1\n",
      "  Downloading PyWavelets-1.4.1-cp39-cp39-win_amd64.whl (4.2 MB)\n",
      "Collecting imageio>=2.27\n",
      "  Downloading imageio-2.31.1-py3-none-any.whl (313 kB)\n",
      "Requirement already satisfied: packaging>=21 in c:\\users\\sachin\\.conda\\envs\\machinelearning\\lib\\site-packages (from scikit-image) (23.0)\n",
      "Installing collected packages: tifffile, PyWavelets, lazy-loader, imageio, scikit-image\n",
      "Successfully installed PyWavelets-1.4.1 imageio-2.31.1 lazy-loader-0.3 scikit-image-0.21.0 tifffile-2023.7.18\n"
     ]
    },
    {
     "name": "stderr",
     "output_type": "stream",
     "text": [
      "WARNING: Ignoring invalid distribution -rotobuf (c:\\users\\sachin\\.conda\\envs\\machinelearning\\lib\\site-packages)\n",
      "WARNING: Ignoring invalid distribution - (c:\\users\\sachin\\.conda\\envs\\machinelearning\\lib\\site-packages)\n",
      "WARNING: Ignoring invalid distribution -ensorflow-intel (c:\\users\\sachin\\.conda\\envs\\machinelearning\\lib\\site-packages)\n",
      "WARNING: Ignoring invalid distribution -andas (c:\\users\\sachin\\.conda\\envs\\machinelearning\\lib\\site-packages)\n",
      "WARNING: Ignoring invalid distribution -rotobuf (c:\\users\\sachin\\.conda\\envs\\machinelearning\\lib\\site-packages)\n",
      "WARNING: Ignoring invalid distribution - (c:\\users\\sachin\\.conda\\envs\\machinelearning\\lib\\site-packages)\n",
      "WARNING: Ignoring invalid distribution -ensorflow-intel (c:\\users\\sachin\\.conda\\envs\\machinelearning\\lib\\site-packages)\n",
      "WARNING: Ignoring invalid distribution -andas (c:\\users\\sachin\\.conda\\envs\\machinelearning\\lib\\site-packages)\n",
      "WARNING: Ignoring invalid distribution -rotobuf (c:\\users\\sachin\\.conda\\envs\\machinelearning\\lib\\site-packages)\n",
      "WARNING: Ignoring invalid distribution - (c:\\users\\sachin\\.conda\\envs\\machinelearning\\lib\\site-packages)\n",
      "WARNING: Ignoring invalid distribution -ensorflow-intel (c:\\users\\sachin\\.conda\\envs\\machinelearning\\lib\\site-packages)\n",
      "WARNING: Ignoring invalid distribution -andas (c:\\users\\sachin\\.conda\\envs\\machinelearning\\lib\\site-packages)\n",
      "WARNING: Ignoring invalid distribution -rotobuf (c:\\users\\sachin\\.conda\\envs\\machinelearning\\lib\\site-packages)\n",
      "WARNING: Ignoring invalid distribution - (c:\\users\\sachin\\.conda\\envs\\machinelearning\\lib\\site-packages)\n",
      "WARNING: Ignoring invalid distribution -ensorflow-intel (c:\\users\\sachin\\.conda\\envs\\machinelearning\\lib\\site-packages)\n",
      "WARNING: Ignoring invalid distribution -andas (c:\\users\\sachin\\.conda\\envs\\machinelearning\\lib\\site-packages)\n",
      "WARNING: Ignoring invalid distribution -rotobuf (c:\\users\\sachin\\.conda\\envs\\machinelearning\\lib\\site-packages)\n",
      "WARNING: Ignoring invalid distribution - (c:\\users\\sachin\\.conda\\envs\\machinelearning\\lib\\site-packages)\n",
      "WARNING: Ignoring invalid distribution -ensorflow-intel (c:\\users\\sachin\\.conda\\envs\\machinelearning\\lib\\site-packages)\n",
      "WARNING: Ignoring invalid distribution -andas (c:\\users\\sachin\\.conda\\envs\\machinelearning\\lib\\site-packages)\n",
      "WARNING: Ignoring invalid distribution -rotobuf (c:\\users\\sachin\\.conda\\envs\\machinelearning\\lib\\site-packages)\n",
      "WARNING: Ignoring invalid distribution - (c:\\users\\sachin\\.conda\\envs\\machinelearning\\lib\\site-packages)\n",
      "WARNING: Ignoring invalid distribution -ensorflow-intel (c:\\users\\sachin\\.conda\\envs\\machinelearning\\lib\\site-packages)\n",
      "WARNING: Ignoring invalid distribution -andas (c:\\users\\sachin\\.conda\\envs\\machinelearning\\lib\\site-packages)\n",
      "WARNING: Ignoring invalid distribution -rotobuf (c:\\users\\sachin\\.conda\\envs\\machinelearning\\lib\\site-packages)\n",
      "WARNING: Ignoring invalid distribution - (c:\\users\\sachin\\.conda\\envs\\machinelearning\\lib\\site-packages)\n",
      "WARNING: Ignoring invalid distribution -ensorflow-intel (c:\\users\\sachin\\.conda\\envs\\machinelearning\\lib\\site-packages)\n",
      "WARNING: Ignoring invalid distribution -andas (c:\\users\\sachin\\.conda\\envs\\machinelearning\\lib\\site-packages)\n",
      "WARNING: Ignoring invalid distribution -rotobuf (c:\\users\\sachin\\.conda\\envs\\machinelearning\\lib\\site-packages)\n",
      "WARNING: Ignoring invalid distribution - (c:\\users\\sachin\\.conda\\envs\\machinelearning\\lib\\site-packages)\n",
      "WARNING: Ignoring invalid distribution -ensorflow-intel (c:\\users\\sachin\\.conda\\envs\\machinelearning\\lib\\site-packages)\n",
      "WARNING: Ignoring invalid distribution -andas (c:\\users\\sachin\\.conda\\envs\\machinelearning\\lib\\site-packages)\n",
      "WARNING: Ignoring invalid distribution -rotobuf (c:\\users\\sachin\\.conda\\envs\\machinelearning\\lib\\site-packages)\n",
      "WARNING: Ignoring invalid distribution - (c:\\users\\sachin\\.conda\\envs\\machinelearning\\lib\\site-packages)\n",
      "WARNING: Ignoring invalid distribution -ensorflow-intel (c:\\users\\sachin\\.conda\\envs\\machinelearning\\lib\\site-packages)\n",
      "WARNING: Ignoring invalid distribution -andas (c:\\users\\sachin\\.conda\\envs\\machinelearning\\lib\\site-packages)\n",
      "WARNING: Ignoring invalid distribution -rotobuf (c:\\users\\sachin\\.conda\\envs\\machinelearning\\lib\\site-packages)\n",
      "WARNING: Ignoring invalid distribution - (c:\\users\\sachin\\.conda\\envs\\machinelearning\\lib\\site-packages)\n",
      "WARNING: Ignoring invalid distribution -ensorflow-intel (c:\\users\\sachin\\.conda\\envs\\machinelearning\\lib\\site-packages)\n",
      "WARNING: Ignoring invalid distribution -andas (c:\\users\\sachin\\.conda\\envs\\machinelearning\\lib\\site-packages)\n",
      "WARNING: Ignoring invalid distribution -rotobuf (c:\\users\\sachin\\.conda\\envs\\machinelearning\\lib\\site-packages)\n",
      "WARNING: Ignoring invalid distribution - (c:\\users\\sachin\\.conda\\envs\\machinelearning\\lib\\site-packages)\n",
      "WARNING: Ignoring invalid distribution -ensorflow-intel (c:\\users\\sachin\\.conda\\envs\\machinelearning\\lib\\site-packages)\n",
      "WARNING: Ignoring invalid distribution -andas (c:\\users\\sachin\\.conda\\envs\\machinelearning\\lib\\site-packages)\n"
     ]
    }
   ],
   "source": [
    "!pip install scikit-image"
   ]
  },
  {
   "cell_type": "code",
   "execution_count": 11,
   "id": "0216e464",
   "metadata": {},
   "outputs": [],
   "source": [
    "import numpy as np\n",
    "from scipy.ndimage import binary_erosion\n",
    "from skimage import filters, morphology\n",
    "from PIL import Image\n",
    "\n",
    "# Load the grayscale image\n",
    "image_path = '../testFingerprints/UnprocessedLeftIndex.jpg'\n",
    "grayscale_image = Image.open(image_path).convert('L')  # Convert to grayscale\n",
    "grayscale_array = np.array(grayscale_image)\n",
    "\n",
    "# Apply adaptive thresholding\n",
    "threshold_value = filters.threshold_otsu(grayscale_array)\n",
    "binary_image = grayscale_array > threshold_value\n",
    "\n",
    "# Create a circular structuring element for binary erosion\n",
    "selem_radius = 5\n",
    "selem = morphology.disk(selem_radius)\n",
    "\n",
    "# Apply binary erosion\n",
    "eroded_image = binary_erosion(binary_image, selem)\n",
    "\n",
    "# Save the isolated ridge image\n",
    "isolated_ridges_image = Image.fromarray((eroded_image * 255).astype(np.uint8))\n",
    "isolated_ridges_image.save('../testFingerprints/isolated_ridges.png')\n"
   ]
  },
  {
   "cell_type": "code",
   "execution_count": 12,
   "id": "7344c813",
   "metadata": {},
   "outputs": [
    {
     "name": "stdout",
     "output_type": "stream",
     "text": [
      "Collecting fingerprint_enhancer"
     ]
    },
    {
     "name": "stderr",
     "output_type": "stream",
     "text": [
      "WARNING: Ignoring invalid distribution -rotobuf (c:\\users\\sachin\\.conda\\envs\\machinelearning\\lib\\site-packages)\n",
      "WARNING: Ignoring invalid distribution - (c:\\users\\sachin\\.conda\\envs\\machinelearning\\lib\\site-packages)\n",
      "WARNING: Ignoring invalid distribution -ensorflow-intel (c:\\users\\sachin\\.conda\\envs\\machinelearning\\lib\\site-packages)\n",
      "WARNING: Ignoring invalid distribution -andas (c:\\users\\sachin\\.conda\\envs\\machinelearning\\lib\\site-packages)\n",
      "WARNING: Ignoring invalid distribution -rotobuf (c:\\users\\sachin\\.conda\\envs\\machinelearning\\lib\\site-packages)\n",
      "WARNING: Ignoring invalid distribution - (c:\\users\\sachin\\.conda\\envs\\machinelearning\\lib\\site-packages)\n",
      "WARNING: Ignoring invalid distribution -ensorflow-intel (c:\\users\\sachin\\.conda\\envs\\machinelearning\\lib\\site-packages)\n",
      "WARNING: Ignoring invalid distribution -andas (c:\\users\\sachin\\.conda\\envs\\machinelearning\\lib\\site-packages)\n",
      "WARNING: Ignoring invalid distribution -rotobuf (c:\\users\\sachin\\.conda\\envs\\machinelearning\\lib\\site-packages)\n",
      "WARNING: Ignoring invalid distribution - (c:\\users\\sachin\\.conda\\envs\\machinelearning\\lib\\site-packages)\n",
      "WARNING: Ignoring invalid distribution -ensorflow-intel (c:\\users\\sachin\\.conda\\envs\\machinelearning\\lib\\site-packages)\n",
      "WARNING: Ignoring invalid distribution -andas (c:\\users\\sachin\\.conda\\envs\\machinelearning\\lib\\site-packages)\n",
      "WARNING: Ignoring invalid distribution -rotobuf (c:\\users\\sachin\\.conda\\envs\\machinelearning\\lib\\site-packages)\n",
      "WARNING: Ignoring invalid distribution - (c:\\users\\sachin\\.conda\\envs\\machinelearning\\lib\\site-packages)\n",
      "WARNING: Ignoring invalid distribution -ensorflow-intel (c:\\users\\sachin\\.conda\\envs\\machinelearning\\lib\\site-packages)\n",
      "WARNING: Ignoring invalid distribution -andas (c:\\users\\sachin\\.conda\\envs\\machinelearning\\lib\\site-packages)\n",
      "WARNING: Ignoring invalid distribution -rotobuf (c:\\users\\sachin\\.conda\\envs\\machinelearning\\lib\\site-packages)\n",
      "WARNING: Ignoring invalid distribution - (c:\\users\\sachin\\.conda\\envs\\machinelearning\\lib\\site-packages)\n",
      "WARNING: Ignoring invalid distribution -ensorflow-intel (c:\\users\\sachin\\.conda\\envs\\machinelearning\\lib\\site-packages)\n",
      "WARNING: Ignoring invalid distribution -andas (c:\\users\\sachin\\.conda\\envs\\machinelearning\\lib\\site-packages)\n",
      "WARNING: Ignoring invalid distribution -rotobuf (c:\\users\\sachin\\.conda\\envs\\machinelearning\\lib\\site-packages)\n",
      "WARNING: Ignoring invalid distribution - (c:\\users\\sachin\\.conda\\envs\\machinelearning\\lib\\site-packages)\n",
      "WARNING: Ignoring invalid distribution -ensorflow-intel (c:\\users\\sachin\\.conda\\envs\\machinelearning\\lib\\site-packages)\n",
      "WARNING: Ignoring invalid distribution -andas (c:\\users\\sachin\\.conda\\envs\\machinelearning\\lib\\site-packages)\n",
      "WARNING: Ignoring invalid distribution -rotobuf (c:\\users\\sachin\\.conda\\envs\\machinelearning\\lib\\site-packages)\n",
      "WARNING: Ignoring invalid distribution - (c:\\users\\sachin\\.conda\\envs\\machinelearning\\lib\\site-packages)\n",
      "WARNING: Ignoring invalid distribution -ensorflow-intel (c:\\users\\sachin\\.conda\\envs\\machinelearning\\lib\\site-packages)\n",
      "WARNING: Ignoring invalid distribution -andas (c:\\users\\sachin\\.conda\\envs\\machinelearning\\lib\\site-packages)\n"
     ]
    },
    {
     "name": "stdout",
     "output_type": "stream",
     "text": [
      "\n",
      "  Downloading fingerprint_enhancer-0.0.13.tar.gz (9.0 kB)\n",
      "Requirement already satisfied: numpy in c:\\users\\sachin\\.conda\\envs\\machinelearning\\lib\\site-packages (from fingerprint_enhancer) (1.23.1)\n",
      "Requirement already satisfied: opencv-python in c:\\users\\sachin\\.conda\\envs\\machinelearning\\lib\\site-packages (from fingerprint_enhancer) (4.6.0.66)\n",
      "Requirement already satisfied: scipy in c:\\users\\sachin\\.conda\\envs\\machinelearning\\lib\\site-packages (from fingerprint_enhancer) (1.9.1)\n",
      "Building wheels for collected packages: fingerprint-enhancer\n",
      "  Building wheel for fingerprint-enhancer (setup.py): started\n",
      "  Building wheel for fingerprint-enhancer (setup.py): finished with status 'done'\n",
      "  Created wheel for fingerprint-enhancer: filename=fingerprint_enhancer-0.0.13-py3-none-any.whl size=8925 sha256=5daf27cf2f22a8d64f630f482d10923b19889e0751495f86fc79db66b8d1cdb2\n",
      "  Stored in directory: c:\\users\\sachin\\appdata\\local\\pip\\cache\\wheels\\91\\89\\5a\\ece1eb398e7fa57d78bf1faa72ff9a14454e90f5bd2a82bcce\n",
      "Successfully built fingerprint-enhancer\n",
      "Installing collected packages: fingerprint-enhancer\n",
      "Successfully installed fingerprint-enhancer-0.0.13\n"
     ]
    }
   ],
   "source": [
    "!pip install fingerprint_enhancer"
   ]
  },
  {
   "cell_type": "code",
   "execution_count": 13,
   "id": "d8c6692e",
   "metadata": {},
   "outputs": [
    {
     "data": {
      "application/javascript": [
       "\n",
       "        if (window._pyforest_update_imports_cell) { window._pyforest_update_imports_cell('import cv2'); }\n",
       "    "
      ],
      "text/plain": [
       "<IPython.core.display.Javascript object>"
      ]
     },
     "metadata": {},
     "output_type": "display_data"
    },
    {
     "data": {
      "application/javascript": [
       "\n",
       "        if (window._pyforest_update_imports_cell) { window._pyforest_update_imports_cell('import cv2'); }\n",
       "    "
      ],
      "text/plain": [
       "<IPython.core.display.Javascript object>"
      ]
     },
     "metadata": {},
     "output_type": "display_data"
    },
    {
     "data": {
      "application/javascript": [
       "\n",
       "        if (window._pyforest_update_imports_cell) { window._pyforest_update_imports_cell('import cv2'); }\n",
       "    "
      ],
      "text/plain": [
       "<IPython.core.display.Javascript object>"
      ]
     },
     "metadata": {},
     "output_type": "display_data"
    },
    {
     "data": {
      "text/plain": [
       "-1"
      ]
     },
     "execution_count": 13,
     "metadata": {},
     "output_type": "execute_result"
    }
   ],
   "source": [
    "import fingerprint_enhancer\n",
    "img = cv2.imread(image_path, 0)\n",
    "out = fingerprint_enhancer.enhance_Fingerprint(img)\n",
    "cv2.imshow('enhanced_image', out)\n",
    "cv2.waitKey(0)"
   ]
  },
  {
   "cell_type": "code",
   "execution_count": null,
   "id": "39a5041f",
   "metadata": {},
   "outputs": [],
   "source": []
  }
 ],
 "metadata": {
  "kernelspec": {
   "display_name": "Python 3 (ipykernel)",
   "language": "python",
   "name": "python3"
  },
  "language_info": {
   "codemirror_mode": {
    "name": "ipython",
    "version": 3
   },
   "file_extension": ".py",
   "mimetype": "text/x-python",
   "name": "python",
   "nbconvert_exporter": "python",
   "pygments_lexer": "ipython3",
   "version": "3.9.12"
  }
 },
 "nbformat": 4,
 "nbformat_minor": 5
}
